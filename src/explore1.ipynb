{
 "cells": [
  {
   "cell_type": "code",
   "execution_count": null,
   "metadata": {},
   "outputs": [],
   "source": [
    "# importacion de librerías\n",
    "# import libraries\n",
    "\n",
    "import pandas as pd\n",
    "from sqlalchemy import create_engine\n",
    "import scipy.stats as stats\n",
    "import numpy as np\n",
    "import matplotlib.pyplot as plt\n",
    "import seaborn as sns\n",
    "from sklearn.model_selection import train_test_split\n",
    "from sklearn.preprocessing import MinMaxScaler, StandardScaler\n",
    "from sklearn.feature_selection import f_regression, SelectKBest\n",
    "from sklearn.ensemble import RandomForestRegressor\n",
    "from sklearn.metrics import mean_squared_error, r2_score, root_mean_squared_error\n",
    "import optuna\n",
    "from pickle import dump"
   ]
  },
  {
   "cell_type": "code",
   "execution_count": null,
   "metadata": {},
   "outputs": [],
   "source": [
    "raw_data = pd.read_csv(\"/workspaces/Proyecto-Final-JOF/data/raw/new_data.csv\")\n",
    "raw_data.head()"
   ]
  },
  {
   "cell_type": "code",
   "execution_count": null,
   "metadata": {},
   "outputs": [],
   "source": [
    "engine = create_engine('sqlite:///solar_data.db')"
   ]
  },
  {
   "cell_type": "code",
   "execution_count": null,
   "metadata": {},
   "outputs": [],
   "source": [
    "raw_data.to_sql('solar_data', engine, index=False, if_exists='replace')"
   ]
  },
  {
   "cell_type": "code",
   "execution_count": null,
   "metadata": {},
   "outputs": [],
   "source": [
    "# Consulta 1: Los 5 registros de energy delta más altos\n",
    "# Query 1: The 5 highest records of energy delta\n",
    "\n",
    "query1 = \"\"\"\n",
    "SELECT * FROM solar_data\n",
    "ORDER BY \"Energy delta[Wh]\" DESC\n",
    "LIMIT 5\n",
    "\"\"\"\n",
    "top_5_energy_delta = pd.read_sql(query1, engine)\n",
    "print(\"Top 5 registros de Energy delta más altos:\")\n",
    "print(\"Top 5 highest records of Energy delta:\")\n",
    "\n",
    "top_5_energy_delta"
   ]
  },
  {
   "cell_type": "code",
   "execution_count": null,
   "metadata": {},
   "outputs": [],
   "source": [
    "# Consulta 2: Los 5 registros de energy delta más bajos a las 12:00 (Time)\n",
    "# Query 2: The 5 lowest records of energy delta at 12:00 (Time)\n",
    "query2 = \"\"\"\n",
    "SELECT * FROM solar_data\n",
    "WHERE strftime('%H', Time) = '12'\n",
    "ORDER BY \"Energy delta[Wh]\" ASC\n",
    "LIMIT 5\n",
    "\"\"\"\n",
    "\n",
    "lowest_5_energy_delta_noon = pd.read_sql(query2, engine)\n",
    "print(\"Top 5 registros de Energy delta más bajos a las 12:00:\")\n",
    "print(\"Top 5 lowest records of Energy delta at 12:00:\")\n"
   ]
  }
 ],
 "metadata": {
  "language_info": {
   "name": "python"
  }
 },
 "nbformat": 4,
 "nbformat_minor": 2
}
