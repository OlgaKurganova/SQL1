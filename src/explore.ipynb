{
    "cells": [
        {
            "cell_type": "markdown",
            "metadata": {},
            "source": [
                "# Explore here"
            ]
        },
        {
            "cell_type": "markdown",
            "metadata": {},
            "source": [
                "Crea una nueva tabla, una vista de una tabla u otro objeto en la base de datos."
            ]
        },
        {
            "cell_type": "code",
            "execution_count": null,
            "metadata": {},
            "outputs": [],
            "source": [
                "# Your code here\n",
                "CREATE TABLE IF NOT EXISTS `chat_group` (\n",
                "  `chat_group_id` int(10) UNSIGNED NOT NULL,\n",
                "  `name` varchar(20) NOT NULL,\n",
                "  `create_date` timestamp NOT NULL DEFAULT CURRENT_TIMESTAMP,\n",
                "  PRIMARY KEY(`chat_group_id`)\n",
                ") ENGINE=InnoDB DEFAULT CHARSET=latin1;"
            ]
        },
        {
            "cell_type": "markdown",
            "metadata": {},
            "source": [
                "Modifica un objeto de base de datos existente, como una tabla."
            ]
        },
        {
            "cell_type": "code",
            "execution_count": null,
            "metadata": {},
            "outputs": [],
            "source": [
                "ALTER TABLE table_name MODIFY column_name datatype NOT NULL;"
            ]
        },
        {
            "cell_type": "markdown",
            "metadata": {},
            "source": [
                "Elimina una tabla completa, una vista de una tabla u otro objeto en la base de datos."
            ]
        },
        {
            "cell_type": "code",
            "execution_count": null,
            "metadata": {},
            "outputs": [],
            "source": [
                "DROP TABLE customers;"
            ]
        },
        {
            "cell_type": "markdown",
            "metadata": {},
            "source": [
                "Manipulando datos\n",
                "Cuando usamos SQL, existen 4 comandos principales para manipular datos: SELECT, INSERT, UPDATE y DELETE.\n",
                "\n",
                "Todos esos comandos están diseñados para manipular UNO o VARIOS registros/filas de la base de datos al mismo tiempo. Pero, solo puedes ejecutar UN comando a la vez.\n",
                "\n",
                "SELECT:\n",
                "Esta es la operación más utilizada. Es la única forma de recuperar cualquier fila/registro específico de datos desde una base de datos. Podemos especificar qué filas queremos recuperar solicitando un grupo de condiciones que esas filas deben cumplir."
            ]
        },
        {
            "cell_type": "code",
            "execution_count": null,
            "metadata": {},
            "outputs": [],
            "source": [
                "SELECT column1, column2... columnN FROM table1 WHERE column1 = 3;\n",
                "\n",
                "// Selecciona un usuario en particular por su número de seguridad social\n",
                "SELECT ssn, username, email\n",
                "FROM user\n",
                "WHERE ssn = '233-34-3453';"
            ]
        },
        {
            "cell_type": "markdown",
            "metadata": {},
            "source": [
                "INSERT:\n",
                "Crea una nueva fila/registro en la tabla. Se agregará al final."
            ]
        },
        {
            "cell_type": "code",
            "execution_count": null,
            "metadata": {},
            "outputs": [],
            "source": [
                "INSERT INTO table_name (column1,column2,...columnN) VALUES (value1,value2,...valueN);\n",
                "\n",
                "// Inserta un usuario nuevo \n",
                "INSERT INTO user (ssn, username, email)\n",
                "VALUES ('234-45-3342', 'alesanchezr', 'a@breatheco.de');"
            ]
        },
        {
            "cell_type": "markdown",
            "metadata": {},
            "source": [
                "UPDATE:\n",
                "Actualiza un registro o una fila de una tabla específica. Es necesario proporcionar una o varias condiciones para identificar las filas específicas que queramos actualizar."
            ]
        },
        {
            "cell_type": "code",
            "execution_count": null,
            "metadata": {},
            "outputs": [],
            "source": [
                "UPDATE table_name SET column1 = value1 WHERE [condition]\n",
                "\n",
                "// Actualiza el email de un usuario \n",
                "UPDATE user\n",
                "SET email = 'new@breatheco.de'\n",
                "WHERE ssn = '333-44-5534'"
            ]
        },
        {
            "cell_type": "markdown",
            "metadata": {},
            "source": [
                "DELETE:\n",
                "Funciona de manera muy similar a UPDATE, pero, en lugar de pasar los nuevos valores de las nuevas columnas que deseas actualizar, solo necesitamos especificar qué filas deseamos eliminar solicitando un grupo de condiciones."
            ]
        },
        {
            "cell_type": "code",
            "execution_count": null,
            "metadata": {},
            "outputs": [],
            "source": [
                "DELETE FROM table_name WHERE [condition]\n",
                "\n",
                "// Elimina todos los usuarios (la condición es opcional)\n",
                "DELETE FROM user;\n",
                "\n",
                "// Elimina un usuario en específico\n",
                "DELETE FROM user\n",
                "WHERE ssn = '342-45-6732';"
            ]
        },
        {
            "cell_type": "markdown",
            "metadata": {},
            "source": [
                "Sentencia COMMIT\n",
                "El comando COMMIT se usa para guardar de manera permanente los cambios realizados en una transacción dentro de la base de datos. Cuando usas INSERT, UPDATE o DELETE, los cambios realizados con estos comandos no son permanentes, los cambios hechos pueden deshacerse o, dicho con otras palabras, podemos volver atrás.\n",
                "\n",
                "Sin embargo, cuando usas el comando COMMIT los cambios en tu base de datos serán permanentes.\n",
                "\n",
                "La sintaxis para el comando es la siguiente:"
            ]
        },
        {
            "cell_type": "code",
            "execution_count": null,
            "metadata": {},
            "outputs": [],
            "source": [
                "// Operación uno... \n",
                "\n",
                "// Operación dos... \n",
                "\n",
                "// Operación tres... \n",
                "\n",
                "COMMIT;"
            ]
        },
        {
            "cell_type": "markdown",
            "metadata": {},
            "source": [
                "Sentencia ROLLBACK\n",
                "El comando ROLLBACK restaura tu base de datos hasta tu último COMMIT. También puedes usarlo con el comando SAVEPOINT para saltar a un punto que hayas guardado durante una transacción en curso.\n",
                "\n",
                "La sintaxis para el comando es la siguiente:"
            ]
        },
        {
            "cell_type": "code",
            "execution_count": null,
            "metadata": {},
            "outputs": [],
            "source": [
                "// Cualquier operación antes del ROLLBACK \n",
                "INSERT INTO client_account SET (amount) VALUES (1000)\n",
                "\n",
                "// Ahora hacemos ROLLBACK, el INSERT nunca pasó \n",
                "ROLLBACK;"
            ]
        },
        {
            "cell_type": "markdown",
            "metadata": {},
            "source": [
                "Sentencia SAVEPOINT\n",
                "El comando SAVEPOINT se usa para guardar temporalmente una transacción para así poder volver a cierto punto utilizando el comando ROLLBACK si así lo necesitas.\n",
                "\n",
                "La sintaxis para el comando es la siguiente:"
            ]
        },
        {
            "cell_type": "code",
            "execution_count": null,
            "metadata": {},
            "outputs": [],
            "source": [
                "SAVEPOINT savepoint_name;"
            ]
        },
        {
            "cell_type": "markdown",
            "metadata": {},
            "source": [
                "El comando RELEASE SAVEPOINT se usa para eliminar un SAVEPOINT que se ha creado con anterioridad.\n",
                "\n",
                "La sintaxis para el comando es la siguiente:"
            ]
        },
        {
            "cell_type": "code",
            "execution_count": null,
            "metadata": {},
            "outputs": [],
            "source": [
                "RELEASE SAVEPOINT savepoint_name;"
            ]
        },
        {
            "cell_type": "markdown",
            "metadata": {},
            "source": [
                "Sentencia SET TRANSACTION\n",
                "El comando SET TRANSACTION se usa para iniciar una transacción de base de datos. Este comando se utiliza para especificar características para la transacción siguiente. Por ejemplo, puede especificar que una transacción sea de solo lectura o de lectura y escritura.\n",
                "\n",
                "La sintaxis para el comando es la siguiente:"
            ]
        },
        {
            "cell_type": "code",
            "execution_count": null,
            "metadata": {},
            "outputs": [],
            "source": [
                "SET TRANSACTION [ READ WRITE | READ ONLY ];"
            ]
        }
    ],
    "metadata": {
        "kernelspec": {
            "display_name": "Python 3.8.13 64-bit ('3.8.13')",
            "language": "python",
            "name": "python3"
        },
        "language_info": {
            "codemirror_mode": {
                "name": "ipython",
                "version": 3
            },
            "file_extension": ".py",
            "mimetype": "text/x-python",
            "name": "python",
            "nbconvert_exporter": "python",
            "pygments_lexer": "ipython3",
            "version": "3.8.13"
        },
        "orig_nbformat": 4,
        "vscode": {
            "interpreter": {
                "hash": "110cc1dee26208153f2972f08a2ad52b6a56238dc66d48e87fb757ef2996db56"
            }
        }
    },
    "nbformat": 4,
    "nbformat_minor": 2
}
